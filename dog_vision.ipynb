{
  "nbformat": 4,
  "nbformat_minor": 0,
  "metadata": {
    "colab": {
      "name": "dog-vision.ipynb",
      "provenance": [],
      "collapsed_sections": [],
      "mount_file_id": "1aNp77uncVOrQ9iCjpF7kpNUD9DjRyztT",
      "authorship_tag": "ABX9TyMirtV4ORZG67Yd+D4+8Y7Y"
    },
    "kernelspec": {
      "name": "python3",
      "display_name": "Python 3"
    },
    "language_info": {
      "name": "python"
    }
  },
  "cells": [
    {
      "cell_type": "markdown",
      "source": [
        "# Multi-class Dog Breed Classification\n",
        "\n",
        "This notebook will build a multi-class image classifier using Tensorflow 2.0 and Tensorflow Hub.\n",
        "\n",
        "## Problem\n",
        " \n",
        "Identifying the breed of a dog given an image of a dog using a neural network.\n",
        "\n",
        "## Data\n",
        "\n",
        "The data is from Kaggle's Dog Breed Identification competition that can be found [here](https://www.kaggle.com/competitions/dog-breed-identification/overview).\n",
        "\n",
        "## Evaluation\n",
        "\n",
        "According to the Kaggle's evaluation, we will be \"evaluated on Multi Class Log Loss between the predicted probability and the observed target.\"\n",
        "\n",
        "## Features\n",
        "- We have images (unstructed data) so we'll be using a neural net/transfer learning.\n",
        "- There are 120 breeds of dogs in the dataset thus there are 120 different classes.\n",
        "- We are working with more than 10,000 images in the training set and 10,000 images in the test set."
      ],
      "metadata": {
        "id": "LGEyWsL58RBP"
      }
    },
    {
      "cell_type": "markdown",
      "source": [
        "## Getting The Workspace Ready"
      ],
      "metadata": {
        "id": "JycmSR9p-fjS"
      }
    },
    {
      "cell_type": "code",
      "source": [
        "# Import tensorflow\n",
        "import tensorflow as tf\n",
        "print(f\"Tensorflow version: {tf.__version__}\")"
      ],
      "metadata": {
        "colab": {
          "base_uri": "https://localhost:8080/"
        },
        "id": "qn0gnFuV7CYb",
        "outputId": "d231c579-2dd1-4aee-ad81-60bf4b999ff0"
      },
      "execution_count": null,
      "outputs": [
        {
          "output_type": "stream",
          "name": "stdout",
          "text": [
            "TF version: 2.8.0\n"
          ]
        }
      ]
    },
    {
      "cell_type": "code",
      "source": [
        ""
      ],
      "metadata": {
        "id": "4YwkgGE6-ny2"
      },
      "execution_count": null,
      "outputs": []
    }
  ]
}